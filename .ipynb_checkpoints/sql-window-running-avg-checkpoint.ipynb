{
 "cells": [
  {
   "cell_type": "code",
   "execution_count": 5,
   "id": "6c3ff855",
   "metadata": {},
   "outputs": [],
   "source": [
    "import pandas as pd\n",
    "import mysql.connector\n",
    "import matplotlib.pyplot as plt"
   ]
  },
  {
   "cell_type": "code",
   "execution_count": 3,
   "id": "32b94002",
   "metadata": {},
   "outputs": [],
   "source": [
    "conn = mysql.connector.connect(\n",
    "       host =\"localhost\",\n",
    "       user = \"root\",\n",
    "       password= \"\"\n",
    ")"
   ]
  },
  {
   "cell_type": "code",
   "execution_count": 6,
   "id": "eb56310e",
   "metadata": {},
   "outputs": [
    {
     "name": "stderr",
     "output_type": "stream",
     "text": [
      "<ipython-input-6-714d57234eff>:1: UserWarning: pandas only supports SQLAlchemy connectable (engine/connection) or database string URI or sqlite3 DBAPI2 connection. Other DBAPI2 objects are not tested. Please consider using SQLAlchemy.\n",
      "  df=pd.read_sql_query(\"\"\"\n"
     ]
    }
   ],
   "source": [
    "df=pd.read_sql_query(\"\"\"\n",
    "SELECT * FROM (\n",
    "SELECT CONCAT(\"Match-\",CAST(ROW_NUMBER() OVER(ORDER BY ID ) AS CHAR)) AS \"match_no\",\n",
    "SUM(batsman_run) AS \"run_scored\",\n",
    "SUM(SUM(batsman_run)) OVER w AS \"career_score\",\n",
    "AVG(SUM(batsman_run)) OVER w AS \"avg_score\",\n",
    "AVG(SUM(batsman_run)) OVER( ROWS BETWEEN 9 PRECEDING AND CURRENT ROW) AS \"running_avg\"\n",
    "FROM campus_x.ipl \n",
    "WHERE batter= \"V Kohli\" \n",
    "GROUP BY Id\n",
    "WINDOW w AS (ROWS BETWEEN UNBOUNDED PRECEDING AND CURRENT ROW)) t \n",
    " \n",
    "\"\"\",conn)"
   ]
  },
  {
   "cell_type": "code",
   "execution_count": 11,
   "id": "c3c543a9",
   "metadata": {},
   "outputs": [
    {
     "data": {
      "text/plain": [
       "[<matplotlib.lines.Line2D at 0x1e9d3f81100>]"
      ]
     },
     "execution_count": 11,
     "metadata": {},
     "output_type": "execute_result"
    },
    {
     "data": {
      "image/png": "[encoded data removed]",
      "text/plain": [
       "<Figure size 432x288 with 1 Axes>"
      ]
     },
     "metadata": {
      "needs_background": "light"
     },
     "output_type": "display_data"
    }
   ],
   "source": [
    "plt.title(\"Virat Kohli Performance\")\n",
    "plt.plot(df[\"match_no\"],df[\"avg_score\"])\n",
    "plt.plot(df[\"match_no\"],df[\"running_avg\"])"
   ]
  },
  {
   "cell_type": "code",
   "execution_count": 8,
   "id": "ae5594f5",
   "metadata": {},
   "outputs": [
    {
     "data": {
      "text/html": [
       "<div>\n",
       "<style scoped>\n",
       "    .dataframe tbody tr th:only-of-type {\n",
       "        vertical-align: middle;\n",
       "    }\n",
       "\n",
       "    .dataframe tbody tr th {\n",
       "        vertical-align: top;\n",
       "    }\n",
       "\n",
       "    .dataframe thead th {\n",
       "        text-align: right;\n",
       "    }\n",
       "</style>\n",
       "<table border=\"1\" class=\"dataframe\">\n",
       "  <thead>\n",
       "    <tr style=\"text-align: right;\">\n",
       "      <th></th>\n",
       "      <th>match_no</th>\n",
       "      <th>run_scored</th>\n",
       "      <th>career_score</th>\n",
       "      <th>avg_score</th>\n",
       "      <th>running_avg</th>\n",
       "    </tr>\n",
       "  </thead>\n",
       "  <tbody>\n",
       "    <tr>\n",
       "      <th>0</th>\n",
       "      <td>Match-1</td>\n",
       "      <td>1.0</td>\n",
       "      <td>1.0</td>\n",
       "      <td>1.0000</td>\n",
       "      <td>1.0000</td>\n",
       "    </tr>\n",
       "    <tr>\n",
       "      <th>1</th>\n",
       "      <td>Match-2</td>\n",
       "      <td>23.0</td>\n",
       "      <td>24.0</td>\n",
       "      <td>12.0000</td>\n",
       "      <td>12.0000</td>\n",
       "    </tr>\n",
       "    <tr>\n",
       "      <th>2</th>\n",
       "      <td>Match-3</td>\n",
       "      <td>13.0</td>\n",
       "      <td>37.0</td>\n",
       "      <td>12.3333</td>\n",
       "      <td>12.3333</td>\n",
       "    </tr>\n",
       "    <tr>\n",
       "      <th>3</th>\n",
       "      <td>Match-4</td>\n",
       "      <td>12.0</td>\n",
       "      <td>49.0</td>\n",
       "      <td>12.2500</td>\n",
       "      <td>12.2500</td>\n",
       "    </tr>\n",
       "    <tr>\n",
       "      <th>4</th>\n",
       "      <td>Match-5</td>\n",
       "      <td>1.0</td>\n",
       "      <td>50.0</td>\n",
       "      <td>10.0000</td>\n",
       "      <td>10.0000</td>\n",
       "    </tr>\n",
       "    <tr>\n",
       "      <th>...</th>\n",
       "      <td>...</td>\n",
       "      <td>...</td>\n",
       "      <td>...</td>\n",
       "      <td>...</td>\n",
       "      <td>...</td>\n",
       "    </tr>\n",
       "    <tr>\n",
       "      <th>210</th>\n",
       "      <td>Match-211</td>\n",
       "      <td>0.0</td>\n",
       "      <td>6509.0</td>\n",
       "      <td>30.8483</td>\n",
       "      <td>16.3000</td>\n",
       "    </tr>\n",
       "    <tr>\n",
       "      <th>211</th>\n",
       "      <td>Match-212</td>\n",
       "      <td>20.0</td>\n",
       "      <td>6529.0</td>\n",
       "      <td>30.7972</td>\n",
       "      <td>17.8000</td>\n",
       "    </tr>\n",
       "    <tr>\n",
       "      <th>212</th>\n",
       "      <td>Match-213</td>\n",
       "      <td>73.0</td>\n",
       "      <td>6602.0</td>\n",
       "      <td>30.9953</td>\n",
       "      <td>20.3000</td>\n",
       "    </tr>\n",
       "    <tr>\n",
       "      <th>213</th>\n",
       "      <td>Match-214</td>\n",
       "      <td>25.0</td>\n",
       "      <td>6627.0</td>\n",
       "      <td>30.9673</td>\n",
       "      <td>22.7000</td>\n",
       "    </tr>\n",
       "    <tr>\n",
       "      <th>214</th>\n",
       "      <td>Match-215</td>\n",
       "      <td>7.0</td>\n",
       "      <td>6634.0</td>\n",
       "      <td>30.8558</td>\n",
       "      <td>22.2000</td>\n",
       "    </tr>\n",
       "  </tbody>\n",
       "</table>\n",
       "<p>215 rows × 5 columns</p>\n",
       "</div>"
      ],
      "text/plain": [
       "      match_no  run_scored  career_score  avg_score  running_avg\n",
       "0      Match-1         1.0           1.0     1.0000       1.0000\n",
       "1      Match-2        23.0          24.0    12.0000      12.0000\n",
       "2      Match-3        13.0          37.0    12.3333      12.3333\n",
       "3      Match-4        12.0          49.0    12.2500      12.2500\n",
       "4      Match-5         1.0          50.0    10.0000      10.0000\n",
       "..         ...         ...           ...        ...          ...\n",
       "210  Match-211         0.0        6509.0    30.8483      16.3000\n",
       "211  Match-212        20.0        6529.0    30.7972      17.8000\n",
       "212  Match-213        73.0        6602.0    30.9953      20.3000\n",
       "213  Match-214        25.0        6627.0    30.9673      22.7000\n",
       "214  Match-215         7.0        6634.0    30.8558      22.2000\n",
       "\n",
       "[215 rows x 5 columns]"
      ]
     },
     "execution_count": 8,
     "metadata": {},
     "output_type": "execute_result"
    }
   ],
   "source": [
    "df"
   ]
  },
  {
   "cell_type": "code",
   "execution_count": null,
   "id": "fa06a7d7",
   "metadata": {},
   "outputs": [],
   "source": []
  }
 ],
 "metadata": {
  "kernelspec": {
   "display_name": "Python 3",
   "language": "python",
   "name": "python3"
  },
  "language_info": {
   "codemirror_mode": {
    "name": "ipython",
    "version": 3
   },
   "file_extension": ".py",
   "mimetype": "text/x-python",
   "name": "python",
   "nbconvert_exporter": "python",
   "pygments_lexer": "ipython3",
   "version": "3.8.8"
  }
 },
 "nbformat": 4,
 "nbformat_minor": 5
}
